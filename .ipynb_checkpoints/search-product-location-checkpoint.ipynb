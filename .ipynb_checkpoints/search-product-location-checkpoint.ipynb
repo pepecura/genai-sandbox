{
 "cells": [
  {
   "cell_type": "markdown",
   "id": "ffee1173-a0ca-4f38-8719-14254ba29d33",
   "metadata": {},
   "source": [
    "# Search product location in a store using structured data \n",
    "Author: lessismore@ </br>\n",
    "Date: 04/04/2024"
   ]
  },
  {
   "cell_type": "code",
   "execution_count": 1,
   "id": "70679520-1cef-4ff6-9d20-877eb61106b4",
   "metadata": {
    "tags": []
   },
   "outputs": [],
   "source": [
    "#import libraries\n",
    "import pandas as pd\n",
    "from google.api_core.client_options import ClientOptions\n",
    "from google.cloud import discoveryengine_v1beta as discoveryengine"
   ]
  },
  {
   "cell_type": "code",
   "execution_count": 2,
   "id": "ef3368aa-5495-4e28-ac2b-92d5c4940de3",
   "metadata": {
    "tags": []
   },
   "outputs": [],
   "source": [
    "#set project parameters\n",
    "PROJECT = !gcloud config get-value project\n",
    "PROJECT_ID = PROJECT[0]\n",
    "LOCATION = \"global\" \n",
    "DATA_STORE_ID = \"bq-product-table_1712144412828\"  "
   ]
  },
  {
   "cell_type": "markdown",
   "id": "58b5aee4-4719-4d6a-8946-989d31069fc0",
   "metadata": {
    "tags": []
   },
   "source": [
    "## Method-1: Search with Vertex AI Search\n",
    "\n",
    "* Data imported into a datastore in Vertex AI Search via the UI </br> \n",
    "https://cloud.google.com/generative-ai-app-builder/docs/prepare-data#bigquery-structured\n",
    "* See the GitHub repo for other examples with Vertex AI Search </br>\n",
    "https://github.com/GoogleCloudPlatform/generative-ai/tree/main/search"
   ]
  },
  {
   "cell_type": "markdown",
   "id": "b34ac9cb-49f0-4994-9e8b-64a1b076127a",
   "metadata": {},
   "source": [
    "Function to search the Vertex AI Search data store"
   ]
  },
  {
   "cell_type": "code",
   "execution_count": 38,
   "id": "851c128e-531d-4bc5-96b6-06b9a5b05742",
   "metadata": {
    "tags": []
   },
   "outputs": [],
   "source": [
    "def search_data_store(\n",
    "    project_id: str,\n",
    "    location: str,\n",
    "    data_store_id: str,\n",
    "    search_query: str,\n",
    ") -> discoveryengine.SearchResponse:\n",
    "    #  For more information, refer to:\n",
    "    # https://cloud.google.com/generative-ai-app-builder/docs/locations#specify_a_multi-region_for_your_data_store\n",
    "    client_options = (\n",
    "        ClientOptions(api_endpoint=f\"{location}-discoveryengine.googleapis.com\")\n",
    "        if location != \"global\"\n",
    "        else None\n",
    "    )\n",
    "\n",
    "    # Create a client\n",
    "    client = discoveryengine.SearchServiceClient(client_options=client_options)\n",
    "\n",
    "    # The full resource name of the search engine serving config\n",
    "    # e.g. projects/{project_id}/locations/{location}/dataStores/{data_store_id}/servingConfigs/{serving_config_id}\n",
    "    serving_config = client.serving_config_path(\n",
    "        project=project_id,\n",
    "        location=location,\n",
    "        data_store=data_store_id,\n",
    "        serving_config=\"default_config\",\n",
    "    )\n",
    "\n",
    "    # Optional: Configuration options for search\n",
    "    # Refer to the `ContentSearchSpec` reference for all supported fields:\n",
    "    # https://cloud.google.com/python/docs/reference/discoveryengine/latest/google.cloud.discoveryengine_v1.types.SearchRequest.ContentSearchSpec\n",
    "    content_search_spec = discoveryengine.SearchRequest.ContentSearchSpec(\n",
    "        # For information about snippets, refer to:\n",
    "        # https://cloud.google.com/generative-ai-app-builder/docs/snippets\n",
    "        snippet_spec=discoveryengine.SearchRequest.ContentSearchSpec.SnippetSpec(\n",
    "            return_snippet=True\n",
    "        ),\n",
    "        extractive_content_spec=discoveryengine.SearchRequest.ContentSearchSpec.ExtractiveContentSpec(\n",
    "            max_extractive_answer_count=5,\n",
    "            max_extractive_segment_count=1,\n",
    "        ),\n",
    "        # For information about search summaries, refer to:\n",
    "        # https://cloud.google.com/generative-ai-app-builder/docs/get-search-summaries\n",
    "        summary_spec=discoveryengine.SearchRequest.ContentSearchSpec.SummarySpec(\n",
    "            summary_result_count=5,\n",
    "            include_citations=True,\n",
    "            ignore_adversarial_query=False,\n",
    "            ignore_non_summary_seeking_query=False,\n",
    "        ),\n",
    "    )\n",
    "\n",
    "    # Refer to the `SearchRequest` reference for all supported fields:\n",
    "    # https://cloud.google.com/python/docs/reference/discoveryengine/latest/google.cloud.discoveryengine_v1.types.SearchRequest\n",
    "    request = discoveryengine.SearchRequest(\n",
    "        serving_config=serving_config,\n",
    "        query=search_query,\n",
    "        page_size=5,\n",
    "        content_search_spec=content_search_spec,\n",
    "        query_expansion_spec=discoveryengine.SearchRequest.QueryExpansionSpec(\n",
    "            condition=discoveryengine.SearchRequest.QueryExpansionSpec.Condition.AUTO,\n",
    "        ),\n",
    "        spell_correction_spec=discoveryengine.SearchRequest.SpellCorrectionSpec(\n",
    "            mode=discoveryengine.SearchRequest.SpellCorrectionSpec.Mode.AUTO\n",
    "        ),\n",
    "    )\n",
    "\n",
    "    response = client.search(request)\n",
    "    return response"
   ]
  },
  {
   "cell_type": "code",
   "execution_count": 39,
   "id": "7e1114b0-a00b-4294-ae44-a95fdc0e54ba",
   "metadata": {
    "tags": []
   },
   "outputs": [
    {
     "data": {
      "text/plain": [
       "'You can find bananas at A09-S12. [1] They are fresh and organic, and are a good source of potassium. [1]'"
      ]
     },
     "execution_count": 39,
     "metadata": {},
     "output_type": "execute_result"
    }
   ],
   "source": [
    "response = search_data_store(PROJECT_ID, LOCATION, DATA_STORE_ID, \"Where are the bananas?\")\n",
    "\n",
    "response.summary.summary_text"
   ]
  },
  {
   "cell_type": "code",
   "execution_count": 40,
   "id": "39f1ad01-d650-4f9d-8cfc-714b8726dbca",
   "metadata": {
    "tags": []
   },
   "outputs": [
    {
     "data": {
      "text/plain": [
       "'You can find Peter Pan Creamy Peanut Butter on A09-S2. [1] You can also find Skippy Creamy Peanut Butter on A09-S3. [2] Jif Creamy Peanut Butter is on A09-S4. [3]'"
      ]
     },
     "execution_count": 40,
     "metadata": {},
     "output_type": "execute_result"
    }
   ],
   "source": [
    "response = search_data_store(PROJECT_ID, LOCATION, DATA_STORE_ID, \"Where can I find peanut butter?\")\n",
    "\n",
    "response.summary.summary_text"
   ]
  },
  {
   "cell_type": "code",
   "execution_count": 41,
   "id": "efcd03fd-2375-4690-88c9-bf3ea5e2739c",
   "metadata": {
    "tags": []
   },
   "outputs": [
    {
     "data": {
      "text/plain": [
       "'Puedes encontrar bananas en la sección A09-S12. [1] Las bananas Dole son frescas y orgánicas, y son una buena fuente de potasio. [1]'"
      ]
     },
     "execution_count": 41,
     "metadata": {},
     "output_type": "execute_result"
    }
   ],
   "source": [
    "response = search_data_store(PROJECT_ID, LOCATION, DATA_STORE_ID, \"Donde puedo encontrar las bananas?\")\n",
    "\n",
    "response.summary.summary_text"
   ]
  },
  {
   "cell_type": "code",
   "execution_count": 48,
   "id": "77a2aac8-7bdd-4091-b74c-18352d313d9e",
   "metadata": {
    "tags": []
   },
   "outputs": [
    {
     "data": {
      "text/plain": [
       "'You can find juice at A03-S3. [1, 3]'"
      ]
     },
     "execution_count": 48,
     "metadata": {},
     "output_type": "execute_result"
    }
   ],
   "source": [
    "response = search_data_store(PROJECT_ID, LOCATION, DATA_STORE_ID, \"where can i find juice?\")\n",
    "\n",
    "response.summary.summary_text"
   ]
  },
  {
   "cell_type": "code",
   "execution_count": 53,
   "id": "ee1351a9-6027-489e-a9c2-85c5de9c2208",
   "metadata": {
    "tags": []
   },
   "outputs": [
    {
     "data": {
      "text/plain": [
       "'There is not enough information to answer the query.'"
      ]
     },
     "execution_count": 53,
     "metadata": {},
     "output_type": "execute_result"
    }
   ],
   "source": [
    "response = search_data_store(PROJECT_ID, LOCATION, DATA_STORE_ID, \"sofas?\")\n",
    "\n",
    "response.summary.summary_text"
   ]
  },
  {
   "cell_type": "markdown",
   "id": "e775eb7c-be92-4086-9f3d-61798bc28b90",
   "metadata": {
    "tags": []
   },
   "source": [
    "## Method-2: Similarity Search in BigQuery \n",
    "\n",
    "* With ML.GENERATE_EMBEDDING in BQ, embeddings for product names/descriptions are created and stored in BigQuery Table </br>\n",
    "https://cloud.google.com/bigquery/docs/reference/standard-sql/bigqueryml-syntax-generate-embedding\n",
    "* With ML.DISTANCE in BQ, the distance between the customer query and the product embeddings is computed with similarity search in BigQuery </br>\n",
    "https://cloud.google.com/bigquery/docs/reference/standard-sql/bigqueryml-syntax-distance"
   ]
  },
  {
   "cell_type": "code",
   "execution_count": 10,
   "id": "04215b53-6b62-41d6-8385-0baa6795b607",
   "metadata": {
    "tags": []
   },
   "outputs": [
    {
     "data": {
      "application/vnd.jupyter.widget-view+json": {
       "model_id": "074fa7edd4b849399f903c0301780b54",
       "version_major": 2,
       "version_minor": 0
      },
      "text/plain": [
       "Query is running:   0%|          |"
      ]
     },
     "metadata": {},
     "output_type": "display_data"
    },
    {
     "data": {
      "application/vnd.jupyter.widget-view+json": {
       "model_id": "730b83eae056448995e2f74510d730eb",
       "version_major": 2,
       "version_minor": 0
      },
      "text/plain": [
       "Downloading:   0%|          |"
      ]
     },
     "metadata": {},
     "output_type": "display_data"
    },
    {
     "data": {
      "text/html": [
       "<div>\n",
       "<style scoped>\n",
       "    .dataframe tbody tr th:only-of-type {\n",
       "        vertical-align: middle;\n",
       "    }\n",
       "\n",
       "    .dataframe tbody tr th {\n",
       "        vertical-align: top;\n",
       "    }\n",
       "\n",
       "    .dataframe thead th {\n",
       "        text-align: right;\n",
       "    }\n",
       "</style>\n",
       "<table border=\"1\" class=\"dataframe\">\n",
       "  <thead>\n",
       "    <tr style=\"text-align: right;\">\n",
       "      <th></th>\n",
       "      <th>id</th>\n",
       "      <th>product</th>\n",
       "      <th>location</th>\n",
       "      <th>store</th>\n",
       "    </tr>\n",
       "  </thead>\n",
       "  <tbody>\n",
       "    <tr>\n",
       "      <th>0</th>\n",
       "      <td>1</td>\n",
       "      <td>Kellogg's Frosted Flakes Cereal - Sweet and Cr...</td>\n",
       "      <td>A01-S2</td>\n",
       "      <td>Walworth Rd</td>\n",
       "    </tr>\n",
       "    <tr>\n",
       "      <th>1</th>\n",
       "      <td>11</td>\n",
       "      <td>Minute Maid Original Orange Juice - No Pulp (5...</td>\n",
       "      <td>A03-S1</td>\n",
       "      <td>Walworth Rd</td>\n",
       "    </tr>\n",
       "    <tr>\n",
       "      <th>2</th>\n",
       "      <td>17</td>\n",
       "      <td>Dave's Killer Bread Organic 21 Whole Grains an...</td>\n",
       "      <td>A03-S2</td>\n",
       "      <td>Walworth Rd</td>\n",
       "    </tr>\n",
       "    <tr>\n",
       "      <th>3</th>\n",
       "      <td>23</td>\n",
       "      <td>Tropicana Pure Premium Orange Juice - No Pulp ...</td>\n",
       "      <td>A03-S2</td>\n",
       "      <td>Butterfly Walk</td>\n",
       "    </tr>\n",
       "    <tr>\n",
       "      <th>4</th>\n",
       "      <td>5</td>\n",
       "      <td>Silk Unsweetened Almond Milk - Dairy-free, Pla...</td>\n",
       "      <td>A03-S2</td>\n",
       "      <td>Walworth Rd</td>\n",
       "    </tr>\n",
       "    <tr>\n",
       "      <th>5</th>\n",
       "      <td>18</td>\n",
       "      <td>Nature's Own Honey Wheat Bread - Soft &amp; Delicious</td>\n",
       "      <td>A03-S3</td>\n",
       "      <td>Walworth Rd</td>\n",
       "    </tr>\n",
       "    <tr>\n",
       "      <th>6</th>\n",
       "      <td>24</td>\n",
       "      <td>Florida's Natural Orange Juice - 100% Original...</td>\n",
       "      <td>A03-S3</td>\n",
       "      <td>Walworth Rd</td>\n",
       "    </tr>\n",
       "    <tr>\n",
       "      <th>7</th>\n",
       "      <td>7</td>\n",
       "      <td>Chobani Greek Yogurt - Plain, Non-Fat, High Pr...</td>\n",
       "      <td>A03-S7</td>\n",
       "      <td>Walworth Rd</td>\n",
       "    </tr>\n",
       "    <tr>\n",
       "      <th>8</th>\n",
       "      <td>9</td>\n",
       "      <td>Hidden Valley Original Ranch Salad Dressing - ...</td>\n",
       "      <td>A05-S5</td>\n",
       "      <td>Walworth Rd</td>\n",
       "    </tr>\n",
       "    <tr>\n",
       "      <th>9</th>\n",
       "      <td>10</td>\n",
       "      <td>Ritz Crackers - Original, Buttery Flavor</td>\n",
       "      <td>A07-S2</td>\n",
       "      <td>Walworth Rd</td>\n",
       "    </tr>\n",
       "    <tr>\n",
       "      <th>10</th>\n",
       "      <td>12</td>\n",
       "      <td>Post Honey Bunches of Oats - Honey Roasted wit...</td>\n",
       "      <td>A08-S2</td>\n",
       "      <td>Walworth Rd</td>\n",
       "    </tr>\n",
       "    <tr>\n",
       "      <th>11</th>\n",
       "      <td>13</td>\n",
       "      <td>General Mills Cheerios Cereal - Made with Whol...</td>\n",
       "      <td>A08-S3</td>\n",
       "      <td>Walworth Rd</td>\n",
       "    </tr>\n",
       "    <tr>\n",
       "      <th>12</th>\n",
       "      <td>8</td>\n",
       "      <td>Sargento Shredded Sharp Cheddar Cheese - Fine ...</td>\n",
       "      <td>A08-S9</td>\n",
       "      <td>Walworth Rd</td>\n",
       "    </tr>\n",
       "    <tr>\n",
       "      <th>13</th>\n",
       "      <td>22</td>\n",
       "      <td>Peter Pan Creamy Peanut Butter - Original</td>\n",
       "      <td>A09-S2</td>\n",
       "      <td>Walworth Rd</td>\n",
       "    </tr>\n",
       "    <tr>\n",
       "      <th>14</th>\n",
       "      <td>21</td>\n",
       "      <td>Skippy Creamy Peanut Butter - Rich, Smooth Flavor</td>\n",
       "      <td>A09-S3</td>\n",
       "      <td>Walworth Rd</td>\n",
       "    </tr>\n",
       "    <tr>\n",
       "      <th>15</th>\n",
       "      <td>6</td>\n",
       "      <td>Barilla Classic Marinara Pasta Sauce - Traditi...</td>\n",
       "      <td>A09-S3</td>\n",
       "      <td>Walworth Rd</td>\n",
       "    </tr>\n",
       "    <tr>\n",
       "      <th>16</th>\n",
       "      <td>20</td>\n",
       "      <td>Jif Creamy Peanut Butter - Classic Peanut Spread</td>\n",
       "      <td>A09-S4</td>\n",
       "      <td>Walworth Rd</td>\n",
       "    </tr>\n",
       "    <tr>\n",
       "      <th>17</th>\n",
       "      <td>19</td>\n",
       "      <td>Wonder Bread Classic White - Perfect for Sandw...</td>\n",
       "      <td>A10-S1</td>\n",
       "      <td>Walworth Rd</td>\n",
       "    </tr>\n",
       "    <tr>\n",
       "      <th>18</th>\n",
       "      <td>16</td>\n",
       "      <td>Velveeta Shells &amp; Cheese - Original</td>\n",
       "      <td>A10-S2</td>\n",
       "      <td>Walworth Rd</td>\n",
       "    </tr>\n",
       "    <tr>\n",
       "      <th>19</th>\n",
       "      <td>15</td>\n",
       "      <td>Kraft Macaroni &amp; Cheese Dinner - Original Flavor</td>\n",
       "      <td>A10-S3</td>\n",
       "      <td>Walworth Rd</td>\n",
       "    </tr>\n",
       "    <tr>\n",
       "      <th>20</th>\n",
       "      <td>14</td>\n",
       "      <td>Annie's Homegrown Organic Macaroni &amp; Cheese - ...</td>\n",
       "      <td>A10-S4</td>\n",
       "      <td>Walworth Rd</td>\n",
       "    </tr>\n",
       "    <tr>\n",
       "      <th>21</th>\n",
       "      <td>3</td>\n",
       "      <td>Nature Valley Oats &amp; Honey Granola Bars - Whol...</td>\n",
       "      <td>A11-S3</td>\n",
       "      <td>Walworth Rd</td>\n",
       "    </tr>\n",
       "    <tr>\n",
       "      <th>22</th>\n",
       "      <td>4</td>\n",
       "      <td>Tyson Grilled &amp; Ready Chicken Breast Strips - ...</td>\n",
       "      <td>A13-S9</td>\n",
       "      <td>Walworth Rd</td>\n",
       "    </tr>\n",
       "    <tr>\n",
       "      <th>23</th>\n",
       "      <td>2</td>\n",
       "      <td>Dole Bananas - Fresh, Organic, Source of Potas...</td>\n",
       "      <td>A09-S12</td>\n",
       "      <td>Walworth Rd</td>\n",
       "    </tr>\n",
       "  </tbody>\n",
       "</table>\n",
       "</div>"
      ],
      "text/plain": [
       "    id                                            product location  \\\n",
       "0    1  Kellogg's Frosted Flakes Cereal - Sweet and Cr...   A01-S2   \n",
       "1   11  Minute Maid Original Orange Juice - No Pulp (5...   A03-S1   \n",
       "2   17  Dave's Killer Bread Organic 21 Whole Grains an...   A03-S2   \n",
       "3   23  Tropicana Pure Premium Orange Juice - No Pulp ...   A03-S2   \n",
       "4    5  Silk Unsweetened Almond Milk - Dairy-free, Pla...   A03-S2   \n",
       "5   18  Nature's Own Honey Wheat Bread - Soft & Delicious   A03-S3   \n",
       "6   24  Florida's Natural Orange Juice - 100% Original...   A03-S3   \n",
       "7    7  Chobani Greek Yogurt - Plain, Non-Fat, High Pr...   A03-S7   \n",
       "8    9  Hidden Valley Original Ranch Salad Dressing - ...   A05-S5   \n",
       "9   10           Ritz Crackers - Original, Buttery Flavor   A07-S2   \n",
       "10  12  Post Honey Bunches of Oats - Honey Roasted wit...   A08-S2   \n",
       "11  13  General Mills Cheerios Cereal - Made with Whol...   A08-S3   \n",
       "12   8  Sargento Shredded Sharp Cheddar Cheese - Fine ...   A08-S9   \n",
       "13  22          Peter Pan Creamy Peanut Butter - Original   A09-S2   \n",
       "14  21  Skippy Creamy Peanut Butter - Rich, Smooth Flavor   A09-S3   \n",
       "15   6  Barilla Classic Marinara Pasta Sauce - Traditi...   A09-S3   \n",
       "16  20   Jif Creamy Peanut Butter - Classic Peanut Spread   A09-S4   \n",
       "17  19  Wonder Bread Classic White - Perfect for Sandw...   A10-S1   \n",
       "18  16                Velveeta Shells & Cheese - Original   A10-S2   \n",
       "19  15   Kraft Macaroni & Cheese Dinner - Original Flavor   A10-S3   \n",
       "20  14  Annie's Homegrown Organic Macaroni & Cheese - ...   A10-S4   \n",
       "21   3  Nature Valley Oats & Honey Granola Bars - Whol...   A11-S3   \n",
       "22   4  Tyson Grilled & Ready Chicken Breast Strips - ...   A13-S9   \n",
       "23   2  Dole Bananas - Fresh, Organic, Source of Potas...  A09-S12   \n",
       "\n",
       "             store  \n",
       "0      Walworth Rd  \n",
       "1      Walworth Rd  \n",
       "2      Walworth Rd  \n",
       "3   Butterfly Walk  \n",
       "4      Walworth Rd  \n",
       "5      Walworth Rd  \n",
       "6      Walworth Rd  \n",
       "7      Walworth Rd  \n",
       "8      Walworth Rd  \n",
       "9      Walworth Rd  \n",
       "10     Walworth Rd  \n",
       "11     Walworth Rd  \n",
       "12     Walworth Rd  \n",
       "13     Walworth Rd  \n",
       "14     Walworth Rd  \n",
       "15     Walworth Rd  \n",
       "16     Walworth Rd  \n",
       "17     Walworth Rd  \n",
       "18     Walworth Rd  \n",
       "19     Walworth Rd  \n",
       "20     Walworth Rd  \n",
       "21     Walworth Rd  \n",
       "22     Walworth Rd  \n",
       "23     Walworth Rd  "
      ]
     },
     "execution_count": 10,
     "metadata": {},
     "output_type": "execute_result"
    }
   ],
   "source": [
    "%%bigquery\n",
    "\n",
    "# Print product table.\n",
    "SELECT *\n",
    "FROM `tadelle-372416.demo.product_table`"
   ]
  },
  {
   "cell_type": "code",
   "execution_count": 13,
   "id": "d14caac2-7c48-4188-bdd0-03d709e3b2fd",
   "metadata": {
    "tags": []
   },
   "outputs": [
    {
     "data": {
      "application/vnd.jupyter.widget-view+json": {
       "model_id": "480945054e7f41479bf4156ace8feb0e",
       "version_major": 2,
       "version_minor": 0
      },
      "text/plain": [
       "Query is running:   0%|          |"
      ]
     },
     "metadata": {},
     "output_type": "display_data"
    },
    {
     "data": {
      "text/html": [
       "<div>\n",
       "<style scoped>\n",
       "    .dataframe tbody tr th:only-of-type {\n",
       "        vertical-align: middle;\n",
       "    }\n",
       "\n",
       "    .dataframe tbody tr th {\n",
       "        vertical-align: top;\n",
       "    }\n",
       "\n",
       "    .dataframe thead th {\n",
       "        text-align: right;\n",
       "    }\n",
       "</style>\n",
       "<table border=\"1\" class=\"dataframe\">\n",
       "  <thead>\n",
       "    <tr style=\"text-align: right;\">\n",
       "      <th></th>\n",
       "    </tr>\n",
       "  </thead>\n",
       "  <tbody>\n",
       "  </tbody>\n",
       "</table>\n",
       "</div>"
      ],
      "text/plain": [
       "Empty DataFrame\n",
       "Columns: []\n",
       "Index: []"
      ]
     },
     "execution_count": 13,
     "metadata": {},
     "output_type": "execute_result"
    }
   ],
   "source": [
    "%%bigquery\n",
    "\n",
    "# Create embeddings in BQ.\n",
    "create or replace table `tadelle-372416.demo.product_table_emb` as\n",
    "SELECT *\n",
    "  FROM\n",
    "    ML.GENERATE_EMBEDDING(\n",
    "      MODEL `tadelle-372416.demo.embedding-gecko`,\n",
    "      (select id, product as content, location, store FROM `tadelle-372416.demo.product_table`),\n",
    "      STRUCT(TRUE AS flatten_json_output)\n",
    "    );"
   ]
  },
  {
   "cell_type": "code",
   "execution_count": 51,
   "id": "6d9cb3ce-426e-455c-9e5e-8da8b6fc06e2",
   "metadata": {
    "tags": []
   },
   "outputs": [
    {
     "data": {
      "application/vnd.jupyter.widget-view+json": {
       "model_id": "cdffd46bf6814f46b8ee6f455922b0c7",
       "version_major": 2,
       "version_minor": 0
      },
      "text/plain": [
       "Query is running:   0%|          |"
      ]
     },
     "metadata": {},
     "output_type": "display_data"
    },
    {
     "data": {
      "application/vnd.jupyter.widget-view+json": {
       "model_id": "554f5dbe7bc040e89f45dce2dde1a930",
       "version_major": 2,
       "version_minor": 0
      },
      "text/plain": [
       "Downloading:   0%|          |"
      ]
     },
     "metadata": {},
     "output_type": "display_data"
    },
    {
     "data": {
      "text/html": [
       "<div>\n",
       "<style scoped>\n",
       "    .dataframe tbody tr th:only-of-type {\n",
       "        vertical-align: middle;\n",
       "    }\n",
       "\n",
       "    .dataframe tbody tr th {\n",
       "        vertical-align: top;\n",
       "    }\n",
       "\n",
       "    .dataframe thead th {\n",
       "        text-align: right;\n",
       "    }\n",
       "</style>\n",
       "<table border=\"1\" class=\"dataframe\">\n",
       "  <thead>\n",
       "    <tr style=\"text-align: right;\">\n",
       "      <th></th>\n",
       "      <th>content</th>\n",
       "      <th>distance_to_query</th>\n",
       "    </tr>\n",
       "  </thead>\n",
       "  <tbody>\n",
       "    <tr>\n",
       "      <th>0</th>\n",
       "      <td>Chobani Greek Yogurt - Plain, Non-Fat, High Pr...</td>\n",
       "      <td>0.061903</td>\n",
       "    </tr>\n",
       "  </tbody>\n",
       "</table>\n",
       "</div>"
      ],
      "text/plain": [
       "                                             content  distance_to_query\n",
       "0  Chobani Greek Yogurt - Plain, Non-Fat, High Pr...           0.061903"
      ]
     },
     "execution_count": 51,
     "metadata": {},
     "output_type": "execute_result"
    }
   ],
   "source": [
    "%%bigquery\n",
    "\n",
    "# Find similarity in embeddings.\n",
    "SELECT * FROM (\n",
    "SELECT\n",
    "  content,\n",
    "  ML.DISTANCE(\n",
    "    (SELECT ml_generate_embedding_result\n",
    "      FROM ML.GENERATE_EMBEDDING(MODEL `tadelle-372416.demo.embedding-gecko`,\n",
    "                                 (select \"Where can I find Greek yogurt?\" as content)\n",
    "    )),\n",
    "    ml_generate_embedding_result,\n",
    "    'COSINE'\n",
    "  ) AS distance_to_query\n",
    "FROM\n",
    "  `tadelle-372416.demo.product_table_emb`\n",
    "  where store = \"Walworth Rd\"       #filters for current store or other attributes can be applied.\n",
    "  #where store = \"Butterfly Walk\" \n",
    "ORDER BY distance_to_query)\n",
    "WHERE distance_to_query < 0.1\n"
   ]
  },
  {
   "cell_type": "markdown",
   "id": "bfb929b2-59a7-485b-a1dc-4ae31b86e8e9",
   "metadata": {},
   "source": [
    "## Method-3: Vector Search in BigQuery\n",
    "\n",
    "* Identify semantically similar entities using Vector Search in BigQuery. To perform a vector search, you use the VECTOR_SEARCH function and optionally a Vector Index (minimum 5k rows required for creating Vector Index). When a vector index is used, VECTOR_SEARCH uses the Approximate Nearest Neighbor search technique to help improve vector search performance. Brute force is used to return exact results when a vector index isn't available, and you can choose to use brute force to get exact results even when a vector index is available. </br>\n",
    "https://cloud.google.com/bigquery/docs/vector-search-intro"
   ]
  },
  {
   "cell_type": "code",
   "execution_count": 4,
   "id": "e6107571-0e45-47ef-8945-4d77ee101398",
   "metadata": {
    "tags": []
   },
   "outputs": [
    {
     "data": {
      "application/vnd.jupyter.widget-view+json": {
       "model_id": "bf4d7d3d73224658a490e41ff001fc73",
       "version_major": 2,
       "version_minor": 0
      },
      "text/plain": [
       "Query is running:   0%|          |"
      ]
     },
     "metadata": {},
     "output_type": "display_data"
    },
    {
     "data": {
      "application/vnd.jupyter.widget-view+json": {
       "model_id": "691aed93cbfa425ca8b32229eddf6b44",
       "version_major": 2,
       "version_minor": 0
      },
      "text/plain": [
       "Downloading:   0%|          |"
      ]
     },
     "metadata": {},
     "output_type": "display_data"
    },
    {
     "data": {
      "text/html": [
       "<div>\n",
       "<style scoped>\n",
       "    .dataframe tbody tr th:only-of-type {\n",
       "        vertical-align: middle;\n",
       "    }\n",
       "\n",
       "    .dataframe tbody tr th {\n",
       "        vertical-align: top;\n",
       "    }\n",
       "\n",
       "    .dataframe thead th {\n",
       "        text-align: right;\n",
       "    }\n",
       "</style>\n",
       "<table border=\"1\" class=\"dataframe\">\n",
       "  <thead>\n",
       "    <tr style=\"text-align: right;\">\n",
       "      <th></th>\n",
       "      <th>query</th>\n",
       "      <th>product</th>\n",
       "      <th>location</th>\n",
       "      <th>store</th>\n",
       "      <th>distance</th>\n",
       "    </tr>\n",
       "  </thead>\n",
       "  <tbody>\n",
       "    <tr>\n",
       "      <th>0</th>\n",
       "      <td>Where can I find pasta sauce?</td>\n",
       "      <td>Barilla Classic Marinara Pasta Sauce - Traditi...</td>\n",
       "      <td>A09-S3</td>\n",
       "      <td>Walworth Rd</td>\n",
       "      <td>0.09515</td>\n",
       "    </tr>\n",
       "  </tbody>\n",
       "</table>\n",
       "</div>"
      ],
      "text/plain": [
       "                           query  \\\n",
       "0  Where can I find pasta sauce?   \n",
       "\n",
       "                                             product location        store  \\\n",
       "0  Barilla Classic Marinara Pasta Sauce - Traditi...   A09-S3  Walworth Rd   \n",
       "\n",
       "   distance  \n",
       "0   0.09515  "
      ]
     },
     "execution_count": 4,
     "metadata": {},
     "output_type": "execute_result"
    }
   ],
   "source": [
    "%%bigquery\n",
    "\n",
    "SELECT query.query, base.content as product, base.location, base.store, round(distance,5) as distance\n",
    "FROM VECTOR_SEARCH(\n",
    "  TABLE `tadelle-372416.demo.product_table_emb`, 'ml_generate_embedding_result',\n",
    "  (SELECT ml_generate_embedding_result, content as query\n",
    "      FROM ML.GENERATE_EMBEDDING(MODEL `tadelle-372416.demo.embedding-gecko`,(select \"Where can I find pasta sauce?\" as content))),\n",
    "  top_k => 3, distance_type => 'COSINE', options => '{\"fraction_lists_to_search\": 1.0}')\n",
    "  where distance <0.1;\n"
   ]
  },
  {
   "cell_type": "code",
   "execution_count": 33,
   "id": "7f0a0fa0-ee7f-4398-9bb3-cafd06c2f766",
   "metadata": {
    "tags": []
   },
   "outputs": [
    {
     "name": "stdout",
     "output_type": "stream",
     "text": [
      "Chobani Greek Yogurt - Plain, Non-Fat, High Protein: \t0.05797\n"
     ]
    }
   ],
   "source": [
    "# Running queries with parameters with Python client for BigQuery.\n",
    "from google.cloud import bigquery\n",
    "\n",
    "# Parameters for the query.\n",
    "PROMPT = \"Where can I find Greek yogurt?\"\n",
    "DISTANCE = 0.1\n",
    "\n",
    "# Construct a BigQuery client object.\n",
    "client = bigquery.Client()\n",
    "\n",
    "query = \"\"\"\n",
    "    SELECT query.query, base.content as product, base.location, base.store, round(distance,5) as distance\n",
    "    FROM VECTOR_SEARCH(\n",
    "      TABLE `tadelle-372416.demo.product_table_emb`, 'ml_generate_embedding_result',\n",
    "      (SELECT ml_generate_embedding_result, content as query\n",
    "      FROM ML.GENERATE_EMBEDDING(MODEL `tadelle-372416.demo.embedding-gecko`,\n",
    "      (select @prompt as content))),\n",
    "      top_k => 5, distance_type => 'COSINE', options => '{\"fraction_lists_to_search\": 1.0}')\n",
    "      where distance <@distance;\n",
    "\n",
    "\"\"\"\n",
    "job_config = bigquery.QueryJobConfig(\n",
    "    query_parameters=[\n",
    "        bigquery.ScalarQueryParameter(\"prompt\", \"STRING\", PROMPT),\n",
    "        bigquery.ScalarQueryParameter(\"distance\", \"FLOAT64\", DISTANCE),\n",
    "    ]\n",
    ")\n",
    "query_job = client.query(query, job_config=job_config)  \n",
    "\n",
    "for row in query_job:\n",
    "    print(\"{}: \\t{}\".format(row.product, row.distance))"
   ]
  },
  {
   "cell_type": "markdown",
   "id": "66858baf-3301-485a-ad26-2e9b7099b502",
   "metadata": {
    "tags": []
   },
   "source": [
    "## Method-4: Vertex AI Vector Search\n",
    "\n",
    "* Vector Search is based on vector search technology developed by Google research. With Vector Search you can leverage the same infrastructure that provides a foundation for Google products such as Google Search, YouTube, and Play.</br>\n",
    "https://cloud.google.com/vertex-ai/docs/vector-search/overview </br>\n",
    "https://github.com/GoogleCloudPlatform/generative-ai/blob/main/embeddings/vector-search-quickstart.ipynb\n"
   ]
  },
  {
   "cell_type": "code",
   "execution_count": 6,
   "id": "37f0a6b1-7b84-4321-80de-7be0908c18c4",
   "metadata": {
    "tags": []
   },
   "outputs": [
    {
     "name": "stdout",
     "output_type": "stream",
     "text": [
      "Copying gs://github-repo/data/vs-quickstart/product-embs.json [Content-Type=application/json]...\n",
      "- [1 files][ 79.3 MiB/ 79.3 MiB]                                                \n",
      "Operation completed over 1 objects/79.3 MiB.                                     \n"
     ]
    }
   ],
   "source": [
    "BUCKET_URI = \"gs://tadelle-bucket/genai/projects/morrisons\" \n",
    "! gsutil cp \"gs://github-repo/data/vs-quickstart/product-embs.json\" \"$BUCKET_URI\""
   ]
  },
  {
   "cell_type": "code",
   "execution_count": 8,
   "id": "b5482ace-196c-4900-833e-c8be20b5a672",
   "metadata": {
    "tags": []
   },
   "outputs": [
    {
     "name": "stdout",
     "output_type": "stream",
     "text": [
      "Copying gs://github-repo/data/vs-quickstart/product-embs.json...\n",
      "- [1 files][ 79.3 MiB/ 79.3 MiB]                                                \n",
      "Operation completed over 1 objects/79.3 MiB.                                     \n",
      "/home/jupyter\n"
     ]
    }
   ],
   "source": [
    "! gsutil cp \"gs://github-repo/data/vs-quickstart/product-embs.json\" . # for query tests\n",
    "! pwd"
   ]
  },
  {
   "cell_type": "markdown",
   "id": "6d21a097-bbd9-408d-975e-f5cb29adc5a7",
   "metadata": {},
   "source": [
    "#### Build and Deploy a Vector Search Index\n",
    "\n",
    "##### Create Index\n",
    "\n",
    "Now it's ready to load the embeddings to Vector Search. Its APIs are available under the [aiplatform](https://cloud.google.com/python/docs/reference/aiplatform/latest/google.cloud.aiplatform) package of the SDK."
   ]
  },
  {
   "cell_type": "code",
   "execution_count": 10,
   "id": "4be52717-9037-45fb-b481-44ba6bd684c0",
   "metadata": {
    "tags": []
   },
   "outputs": [],
   "source": [
    "# init the aiplatform package\n",
    "from google.cloud import aiplatform\n",
    "\n",
    "LOCATION = \"us-central1\" \n",
    "\n",
    "aiplatform.init(project=PROJECT_ID, location=LOCATION)"
   ]
  },
  {
   "cell_type": "code",
   "execution_count": 17,
   "id": "c896e300-a679-4466-80fd-0294de895c46",
   "metadata": {
    "tags": []
   },
   "outputs": [
    {
     "name": "stdout",
     "output_type": "stream",
     "text": [
      "Creating MatchingEngineIndex\n",
      "Create MatchingEngineIndex backing LRO: projects/81492352225/locations/us-central1/indexes/4293430178744369152/operations/29580195681796096\n",
      "MatchingEngineIndex created. Resource name: projects/81492352225/locations/us-central1/indexes/4293430178744369152\n",
      "To use this MatchingEngineIndex in another session:\n",
      "index = aiplatform.MatchingEngineIndex('projects/81492352225/locations/us-central1/indexes/4293430178744369152')\n"
     ]
    }
   ],
   "source": [
    "# create Index\n",
    "product_index = aiplatform.MatchingEngineIndex.create_tree_ah_index(\n",
    "    display_name=\"retail_product_index\",\n",
    "    contents_delta_uri=BUCKET_URI,\n",
    "    dimensions=768,\n",
    "    approximate_neighbors_count=5,\n",
    ")"
   ]
  },
  {
   "cell_type": "markdown",
   "id": "cc344321-81eb-4d48-bff0-771932569430",
   "metadata": {},
   "source": [
    "#### Create Index Endpoint and deploy the Index\n",
    "\n",
    "To use the Index, you need to create an [Index Endpoint](https://cloud.google.com/vertex-ai/docs/vector-search/deploy-index-public). It works as a server instance accepting query requests for your Index."
   ]
  },
  {
   "cell_type": "code",
   "execution_count": 18,
   "id": "79f5b7ce-a5d3-428d-98b7-b56122082b31",
   "metadata": {
    "tags": []
   },
   "outputs": [
    {
     "name": "stdout",
     "output_type": "stream",
     "text": [
      "Creating MatchingEngineIndexEndpoint\n",
      "Create MatchingEngineIndexEndpoint backing LRO: projects/81492352225/locations/us-central1/indexEndpoints/4932941325830979584/operations/1445962278489817088\n",
      "MatchingEngineIndexEndpoint created. Resource name: projects/81492352225/locations/us-central1/indexEndpoints/4932941325830979584\n",
      "To use this MatchingEngineIndexEndpoint in another session:\n",
      "index_endpoint = aiplatform.MatchingEngineIndexEndpoint('projects/81492352225/locations/us-central1/indexEndpoints/4932941325830979584')\n"
     ]
    }
   ],
   "source": [
    "# create IndexEndpoint\n",
    "product_index_endpoint = aiplatform.MatchingEngineIndexEndpoint.create(\n",
    "    display_name=\"retail_product_index_endpoint\", public_endpoint_enabled=True\n",
    ")"
   ]
  },
  {
   "cell_type": "code",
   "execution_count": 19,
   "id": "9a36ea8f-abaf-40fc-baa5-31eb83c5906c",
   "metadata": {
    "tags": []
   },
   "outputs": [
    {
     "name": "stdout",
     "output_type": "stream",
     "text": [
      "Deploying index MatchingEngineIndexEndpoint index_endpoint: projects/81492352225/locations/us-central1/indexEndpoints/4932941325830979584\n",
      "Deploy index MatchingEngineIndexEndpoint index_endpoint backing LRO: projects/81492352225/locations/us-central1/indexEndpoints/4932941325830979584/operations/7011566992989618176\n",
      "MatchingEngineIndexEndpoint index_endpoint Deployed index. Resource name: projects/81492352225/locations/us-central1/indexEndpoints/4932941325830979584\n"
     ]
    },
    {
     "data": {
      "text/plain": [
       "<google.cloud.aiplatform.matching_engine.matching_engine_index_endpoint.MatchingEngineIndexEndpoint object at 0x7f3b4c423940> \n",
       "resource name: projects/81492352225/locations/us-central1/indexEndpoints/4932941325830979584"
      ]
     },
     "execution_count": 19,
     "metadata": {},
     "output_type": "execute_result"
    }
   ],
   "source": [
    "DEPLOYED_INDEX_ID = \"retail_product_index_endpoint\"\n",
    "# deploy the Index to the Index Endpoint\n",
    "product_index_endpoint.deploy_index(index=product_index, deployed_index_id=DEPLOYED_INDEX_ID)"
   ]
  },
  {
   "cell_type": "code",
   "execution_count": 20,
   "id": "97a3788c-8891-4a5a-9c1a-3c9d2ffaccbe",
   "metadata": {
    "tags": []
   },
   "outputs": [],
   "source": [
    "# Get an embedding to run a query: First, load the embedding JSON file to build a dict of product names and embeddings.\n",
    "import json\n",
    "\n",
    "# build dicts for product names and embs\n",
    "product_names = {}\n",
    "product_embs = {}\n",
    "with open(\"product-embs.json\") as f:\n",
    "    for l in f.readlines():\n",
    "        p = json.loads(l)\n",
    "        id = p[\"id\"]\n",
    "        product_names[id] = p[\"name\"]\n",
    "        product_embs[id] = p[\"embedding\"]"
   ]
  },
  {
   "cell_type": "code",
   "execution_count": 21,
   "id": "ee458a19-9e81-4188-8dfd-bfda4351d3c7",
   "metadata": {
    "tags": []
   },
   "outputs": [],
   "source": [
    "# get the embedding for ID 6523 \"cloudveil women's excursion short\"\n",
    "# you can also try with other IDs such as 12711, 18090, 19536 and 11863\n",
    "\n",
    "query_emb = product_embs[\"6523\"]\n",
    "\n",
    "\n",
    "\n"
   ]
  },
  {
   "cell_type": "code",
   "execution_count": 22,
   "id": "9469d6ea-2625-4a37-8547-080d16f88d07",
   "metadata": {
    "tags": []
   },
   "outputs": [
    {
     "name": "stdout",
     "output_type": "stream",
     "text": [
      "1.00 cloudveil women's excursion short\n",
      "0.82 quiksilver womens cruiser short\n",
      "0.80 xcvi women's alisal short\n",
      "0.80 cloudveil men's kahuna short\n",
      "0.78 ibex women's gozo short\n"
     ]
    }
   ],
   "source": [
    "# run query\n",
    "response = product_index_endpoint.find_neighbors(\n",
    "    deployed_index_id=DEPLOYED_INDEX_ID, queries=[query_emb], num_neighbors=5\n",
    ")\n",
    "\n",
    "# show the results\n",
    "for idx, neighbor in enumerate(response[0]):\n",
    "    print(f\"{neighbor.distance:.2f} {product_names[neighbor.id]}\")"
   ]
  },
  {
   "cell_type": "markdown",
   "id": "71cefe47-bbb1-4ea6-b7dc-e22297f38a7d",
   "metadata": {},
   "source": [
    "The end."
   ]
  }
 ],
 "metadata": {
  "environment": {
   "kernel": "conda-root-py",
   "name": "workbench-notebooks.m115",
   "type": "gcloud",
   "uri": "gcr.io/deeplearning-platform-release/workbench-notebooks:m115"
  },
  "kernelspec": {
   "display_name": "Python 3 (ipykernel) (Local)",
   "language": "python",
   "name": "conda-root-py"
  },
  "language_info": {
   "codemirror_mode": {
    "name": "ipython",
    "version": 3
   },
   "file_extension": ".py",
   "mimetype": "text/x-python",
   "name": "python",
   "nbconvert_exporter": "python",
   "pygments_lexer": "ipython3",
   "version": "3.10.13"
  }
 },
 "nbformat": 4,
 "nbformat_minor": 5
}
