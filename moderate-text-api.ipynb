{
 "cells": [
  {
   "cell_type": "code",
   "execution_count": 1,
   "id": "23729973-0ed8-4c14-9e0f-113488b97da8",
   "metadata": {
    "tags": []
   },
   "outputs": [],
   "source": [
    "from google.cloud import language\n",
    "\n",
    "def moderate_text(text: str) -> language.ModerateTextResponse:\n",
    "    client = language.LanguageServiceClient()\n",
    "    document = language.Document(\n",
    "        content=text,\n",
    "        type_=language.Document.Type.PLAIN_TEXT,\n",
    "    )\n",
    "    return client.moderate_text(document=document)\n",
    "\n",
    "def show_text_moderation(text: str, response: language.ModerateTextResponse):\n",
    "    import pandas as pd\n",
    "\n",
    "    def confidence(category: language.ClassificationCategory) -> float:\n",
    "        return category.confidence\n",
    "\n",
    "    columns = [\"category\", \"confidence\"]\n",
    "    categories = sorted(response.moderation_categories, key=confidence, reverse=True)\n",
    "    data = ((category.name, category.confidence) for category in categories)\n",
    "    df = pd.DataFrame(columns=columns, data=data)\n",
    "\n",
    "    print(f\"Text analyzed:\\n{text}\")\n",
    "    print(df.to_markdown(index=False, tablefmt=\"presto\", floatfmt=\".0%\"))\n",
    "    "
   ]
  },
  {
   "cell_type": "code",
   "execution_count": 2,
   "id": "955c2882-d852-4955-9a3c-3e33c6bfc870",
   "metadata": {
    "tags": []
   },
   "outputs": [
    {
     "name": "stdout",
     "output_type": "stream",
     "text": [
      "Text analyzed:\n",
      "I have to read Ulysses by James Joyce.\n",
      "I'm a little over halfway through and I hate it.\n",
      "What a pile of garbage!\n",
      "\n",
      " category              |   confidence\n",
      "-----------------------+--------------\n",
      " Toxic                 |          67%\n",
      " Insult                |          58%\n",
      " Profanity             |          53%\n",
      " Violent               |          48%\n",
      " Illicit Drugs         |          29%\n",
      " Religion & Belief     |          27%\n",
      " Politics              |          22%\n",
      " Death, Harm & Tragedy |          21%\n",
      " Finance               |          18%\n",
      " Derogatory            |          14%\n",
      " Firearms & Weapons    |          11%\n",
      " Health                |          10%\n",
      " Legal                 |          10%\n",
      " War & Conflict        |           7%\n",
      " Public Safety         |           5%\n",
      " Sexual                |           4%\n"
     ]
    }
   ],
   "source": [
    "# Input\n",
    "text = \"\"\"I have to read Ulysses by James Joyce.\n",
    "I'm a little over halfway through and I hate it.\n",
    "What a pile of garbage!\n",
    "\"\"\"\n",
    "\n",
    "# Send a request to the API\n",
    "response = moderate_text(text)\n",
    "\n",
    "# Show the results\n",
    "show_text_moderation(text, response)"
   ]
  },
  {
   "cell_type": "code",
   "execution_count": 1,
   "id": "df40f6a5-a59e-468d-8fa6-f628273ed40d",
   "metadata": {
    "tags": []
   },
   "outputs": [
    {
     "name": "stdout",
     "output_type": "stream",
     "text": [
      "\u001b[33mWARNING: No metadata found in /opt/conda/lib/python3.10/site-packages\u001b[0m\u001b[33m\n",
      "\u001b[0m\u001b[33mWARNING: No metadata found in /opt/conda/lib/python3.10/site-packages\u001b[0m\u001b[33m\n",
      "\u001b[0mgoogle-cloud-aiplatform==1.44.0\n"
     ]
    }
   ],
   "source": [
    "!pip freeze | grep google-cloud-aiplatform\n"
   ]
  },
  {
   "cell_type": "code",
   "execution_count": 1,
   "id": "e23663c0-60c3-4c8d-8f0c-ac81e0e17c58",
   "metadata": {},
   "outputs": [
    {
     "name": "stdout",
     "output_type": "stream",
     "text": [
      "Listed 0 items.\n"
     ]
    }
   ],
   "source": [
    "!gcloud notebooks instances list --location=us-central1"
   ]
  },
  {
   "cell_type": "code",
   "execution_count": null,
   "id": "72d368b7-d979-46fe-93e2-9596d71c9695",
   "metadata": {},
   "outputs": [],
   "source": []
  }
 ],
 "metadata": {
  "environment": {
   "kernel": "conda-root-py",
   "name": "workbench-notebooks.m115",
   "type": "gcloud",
   "uri": "gcr.io/deeplearning-platform-release/workbench-notebooks:m115"
  },
  "kernelspec": {
   "display_name": "Python 3 (ipykernel) (Local)",
   "language": "python",
   "name": "conda-root-py"
  },
  "language_info": {
   "codemirror_mode": {
    "name": "ipython",
    "version": 3
   },
   "file_extension": ".py",
   "mimetype": "text/x-python",
   "name": "python",
   "nbconvert_exporter": "python",
   "pygments_lexer": "ipython3",
   "version": "3.10.13"
  }
 },
 "nbformat": 4,
 "nbformat_minor": 5
}
